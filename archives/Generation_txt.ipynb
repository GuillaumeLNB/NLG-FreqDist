{
 "cells": [
  {
   "cell_type": "code",
   "execution_count": 1,
   "metadata": {},
   "outputs": [],
   "source": [
    "import nltk\n",
    "import random\n",
    "from nltk import word_tokenize"
   ]
  },
  {
   "cell_type": "code",
   "execution_count": 2,
   "metadata": {
    "scrolled": true
   },
   "outputs": [
    {
     "name": "stderr",
     "output_type": "stream",
     "text": [
      "ERROR:root:Internal Python error in the inspect module.\n",
      "Below is the traceback from this internal error.\n",
      "\n"
     ]
    },
    {
     "name": "stdout",
     "output_type": "stream",
     "text": [
      "Traceback (most recent call last):\n",
      "  File \"/usr/local/lib/python3.7/dist-packages/IPython/core/interactiveshell.py\", line 2961, in run_code\n",
      "    exec(code_obj, self.user_global_ns, self.user_ns)\n",
      "  File \"<ipython-input-2-5a72ca9ee3a9>\", line 3, in <module>\n",
      "    cfreq_2gram_nom = nltk.ConditionalFreqDist(nltk.bigrams(words_nom))\n",
      "NameError: name 'words_nom' is not defined\n",
      "\n",
      "During handling of the above exception, another exception occurred:\n",
      "\n",
      "Traceback (most recent call last):\n",
      "  File \"/usr/local/lib/python3.7/dist-packages/IPython/core/interactiveshell.py\", line 1863, in showtraceback\n",
      "    stb = value._render_traceback_()\n",
      "AttributeError: 'NameError' object has no attribute '_render_traceback_'\n",
      "\n",
      "During handling of the above exception, another exception occurred:\n",
      "\n",
      "Traceback (most recent call last):\n",
      "  File \"/usr/local/lib/python3.7/dist-packages/IPython/core/ultratb.py\", line 1095, in get_records\n",
      "    return _fixed_getinnerframes(etb, number_of_lines_of_context, tb_offset)\n",
      "  File \"/usr/local/lib/python3.7/dist-packages/IPython/core/ultratb.py\", line 311, in wrapped\n",
      "    return f(*args, **kwargs)\n",
      "  File \"/usr/local/lib/python3.7/dist-packages/IPython/core/ultratb.py\", line 345, in _fixed_getinnerframes\n",
      "    records = fix_frame_records_filenames(inspect.getinnerframes(etb, context))\n",
      "  File \"/usr/lib/python3.7/inspect.py\", line 1502, in getinnerframes\n",
      "    frameinfo = (tb.tb_frame,) + getframeinfo(tb, context)\n",
      "  File \"/usr/lib/python3.7/inspect.py\", line 1460, in getframeinfo\n",
      "    filename = getsourcefile(frame) or getfile(frame)\n",
      "  File \"/usr/lib/python3.7/inspect.py\", line 696, in getsourcefile\n",
      "    if getattr(getmodule(object, filename), '__loader__', None) is not None:\n",
      "  File \"/usr/lib/python3.7/inspect.py\", line 739, in getmodule\n",
      "    f = getabsfile(module)\n",
      "  File \"/usr/lib/python3.7/inspect.py\", line 708, in getabsfile\n",
      "    _filename = getsourcefile(object) or getfile(object)\n",
      "  File \"/usr/lib/python3.7/inspect.py\", line 693, in getsourcefile\n",
      "    if os.path.exists(filename):\n",
      "  File \"/usr/lib/python3.7/genericpath.py\", line 19, in exists\n",
      "    os.stat(path)\n",
      "KeyboardInterrupt\n"
     ]
    },
    {
     "ename": "NameError",
     "evalue": "name 'words_nom' is not defined",
     "output_type": "error",
     "traceback": [
      "\u001b[0;31m---------------------------------------------------------------------------\u001b[0m"
     ]
    }
   ],
   "source": [
    "fic = open(\"../data/text_DEMOCRATIE.txt\", encoding=\"utf-8\").read().lower()[:10000]\n",
    "words = word_tokenize(fic)\n",
    "cfreq_2gram_nom = nltk.ConditionalFreqDist(nltk.bigrams(words_nom))\n",
    "trigrams_nom = nltk.trigrams(words_nom)\n",
    "cfreq_3gram_nom = nltk.ConditionalFreqDist(((w1, w2), w3) for w1, w2, w3 in trigrams_nom)\n",
    "cprob_3gram_laplace_nom = nltk.ConditionalProbDist(cfreq_3gram_nom, nltk.LaplaceProbDist)"
   ]
  },
  {
   "cell_type": "code",
   "execution_count": null,
   "metadata": {},
   "outputs": [],
   "source": [
    "def generate_text(history, model, size=100):\n",
    "    history_words = history.split(' ')\n",
    "    for i in range(size):\n",
    "        next_word = model[(history_words[-2], history_words[-1])].max()\n",
    "        history_words.append(next_word)\n",
    "    return \" \".join(history_words)\n",
    "print(generate_text(\"theory of\", cprob_3gram_laplace_nom, 40), end=\"\\n\"*2)"
   ]
  },
  {
   "cell_type": "code",
   "execution_count": null,
   "metadata": {},
   "outputs": [],
   "source": [
    "def get_rand_nbest(hist, model, n):\n",
    "    \"\"\"\n",
    "    Returns a random word among the n bests according to the model\n",
    "    Args:\n",
    "        hist (tuple): the words preceding (tuple of 2 words for a 3gram model)\n",
    "        model (ConditionalFreqDist): ngram model\n",
    "        n (int): n best words\n",
    "    Returns:\n",
    "        str: random word among the n bests\n",
    "    \"\"\"\n",
    "    bests = sorted(model[hist].samples(), key=lambda sample: model[hist].prob(sample), reverse=True)\n",
    "    if len(bests) > n:\n",
    "        n_best = bests[:n]\n",
    "        word = n_best[random.randint(0, n-1)]\n",
    "    else:\n",
    "        n_best = bests\n",
    "        word = n_best[random.randint(0, (len(n_best)-1))]\n",
    "    return word"
   ]
  },
  {
   "cell_type": "code",
   "execution_count": null,
   "metadata": {},
   "outputs": [],
   "source": [
    "import random\n",
    "print(get_rand_nbest(('of', 'the'), cprob_3gram_laplace_nom, 15))\n",
    "print(get_rand_nbest(('of', 'the'), cprob_3gram_laplace_abs, 15))"
   ]
  },
  {
   "cell_type": "code",
   "execution_count": null,
   "metadata": {},
   "outputs": [],
   "source": [
    "def generate_text(history, model, size=100, n=3):\n",
    "    history_words = history.split(' ')\n",
    "    if len(history_words) < n-1:\n",
    "        raise ValueError(\"history has only {} values, {} needed\".format(len(history_words), n))\n",
    "    for i in range(size):\n",
    "        next_word = get_rand_nbest((history_words[-2], history_words[-1]), model, 15)\n",
    "        history_words.append(next_word)\n",
    "    return \" \".join(history_words)\n",
    "\n",
    "print(generate_text(\"A theory of\", cprob_3gram_laplace_nom, 15),end='\\n'*2)"
   ]
  },
  {
   "cell_type": "code",
   "execution_count": null,
   "metadata": {},
   "outputs": [],
   "source": [
    "fourgrams_nom = nltk.ngrams(words_nom, 4)\n",
    "cfreq_4gram_nom = nltk.ConditionalFreqDist(((w1, w2, w3), w4) for w1, w2, w3, w4 in fourgrams_nom)"
   ]
  },
  {
   "cell_type": "code",
   "execution_count": null,
   "metadata": {},
   "outputs": [],
   "source": []
  }
 ],
 "metadata": {
  "kernelspec": {
   "display_name": "Python 3 (ipykernel)",
   "language": "python",
   "name": "python3"
  },
  "language_info": {
   "codemirror_mode": {
    "name": "ipython",
    "version": 3
   },
   "file_extension": ".py",
   "mimetype": "text/x-python",
   "name": "python",
   "nbconvert_exporter": "python",
   "pygments_lexer": "ipython3",
   "version": "3.7.7"
  }
 },
 "nbformat": 4,
 "nbformat_minor": 2
}
